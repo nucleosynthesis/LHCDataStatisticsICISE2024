{
 "cells": [
  {
   "cell_type": "markdown",
   "id": "8d0b49a6-49ff-409c-89e9-51c2f451bba5",
   "metadata": {},
   "source": [
    "# Answers to last part of Exercise 3"
   ]
  },
  {
   "cell_type": "markdown",
   "id": "f25b012f-25e2-4a57-9833-b7cd26670518",
   "metadata": {},
   "source": [
    "## 1. Plots from the best fit\n",
    "\n",
    "We run the commands, \n",
    "```\n",
    "combineCards.py signalregion=signalregion_mbjj.txt controlregion=controlregion_mjjj.txt > combined.txt\n",
    "\n",
    "combine combined.txt -M FitDiagnostics --skipB -n Combined --cminDefaultMinimizerStrategy 0 --saveShapes --saveWithUncert \n",
    "```\n",
    "\n",
    "And we create the plots - I am using the `pyROOT` version. "
   ]
  },
  {
   "cell_type": "code",
   "execution_count": 2,
   "id": "68cf4ccb-bae3-432b-8ba8-724feacd7ac9",
   "metadata": {},
   "outputs": [
    {
     "name": "stdout",
     "output_type": "stream",
     "text": [
      "20\n",
      "20\n"
     ]
    }
   ],
   "source": [
    "import ROOT\n",
    "\n",
    "# Signal region \n",
    "file   = ROOT.TFile.Open(\"fitDiagnosticsCombined.root\")\n",
    "\n",
    "folder = file.Get(\"shapes_fit_s/signalregion\")\n",
    "data  = folder.Get(\"data\")\n",
    "print(data.GetN())\n",
    "total = folder.Get(\"total\"); total.SetFillColor(ROOT.kGray); total.SetFillStyle(1001)\n",
    "\n",
    "ttbar = folder.Get(\"ttbar\") ; ttbar.SetFillColor(ROOT.kOrange) \n",
    "wjets = folder.Get(\"wjets\") ; wjets.SetFillColor(ROOT.kRed+1)\n",
    "single_top_tW = folder.Get(\"single_top_tW\") ; single_top_tW.SetFillColor(ROOT.kBlue)\n",
    "single_atop_t_chan = folder.Get(\"single_atop_t_chan\"); single_atop_t_chan.SetFillColor(ROOT.kBlue-3)\n",
    "single_top_t_chan  = folder.Get(\"single_top_t_chan\"); single_top_t_chan.SetFillColor(ROOT.kBlue-9)\n",
    "\n",
    "# create legend and stack and fill them\n",
    "legend = ROOT.TLegend(0.6,0.6,0.89,0.89)\n",
    "legend.AddEntry(data,\"data\",\"pe\")\n",
    "\n",
    "stk = ROOT.THStack(\"stack\",\";;Events\")\n",
    "stk.Add(single_top_t_chan); legend.AddEntry(single_top_t_chan,\"single_top_t_chan\",\"F\")\n",
    "stk.Add(single_atop_t_chan); legend.AddEntry(single_atop_t_chan,\"single_atop_t_chan\",\"F\")\n",
    "stk.Add(single_top_tW); legend.AddEntry(single_top_tW,\"single_top_tW\",\"F\")\n",
    "stk.Add(wjets); legend.AddEntry(wjets,\"wjets\",\"F\")\n",
    "stk.Add(ttbar); legend.AddEntry(ttbar,\"ttbar\",\"F\")\n",
    "\n",
    "# Control region \n",
    "folder2 = file.Get(\"shapes_fit_s/controlregion\")\n",
    "data2  = folder2.Get(\"data\")\n",
    "print(data2.GetN())\n",
    "total2 = folder2.Get(\"total\"); total2.SetFillColor(ROOT.kGray)\n",
    "\n",
    "ttbar2 = folder2.Get(\"ttbar\") ; ttbar2.SetFillColor(ROOT.kOrange) ; ttbar2.SetFillStyle(1001)\n",
    "wjets2 = folder2.Get(\"wjets\") ; wjets2.SetFillColor(ROOT.kRed+1)\n",
    "single_top_tW2 = folder2.Get(\"single_top_tW\") ; single_top_tW2.SetFillColor(ROOT.kBlue)\n",
    "single_atop_t_chan2 = folder2.Get(\"single_atop_t_chan\"); single_atop_t_chan2.SetFillColor(ROOT.kBlue-3)\n",
    "single_top_t_chan2  = folder2.Get(\"single_top_t_chan\"); single_top_t_chan2.SetFillColor(ROOT.kBlue-9)\n",
    "\n",
    "# create legend and stack and fill them\n",
    "legend2 = ROOT.TLegend(0.6,0.6,0.89,0.89)\n",
    "legend2.AddEntry(data2,\"data\",\"pe\")\n",
    "\n",
    "stk2 = ROOT.THStack(\"stack\",\";;Events\")\n",
    "stk2.Add(single_top_t_chan2); legend2.AddEntry(single_top_t_chan2,\"single_top_t_chan\",\"F\")\n",
    "stk2.Add(single_atop_t_chan2); legend2.AddEntry(single_atop_t_chan2,\"single_atop_t_chan\",\"F\")\n",
    "stk2.Add(single_top_tW2); legend2.AddEntry(single_top_tW2,\"single_top_tW\",\"F\")\n",
    "stk2.Add(wjets2); legend2.AddEntry(wjets,\"wjets\",\"F\")\n",
    "stk2.Add(ttbar2); legend2.AddEntry(ttbar,\"ttbar\",\"F\")\n",
    "\n",
    "#data.Draw(\"ApE\")\n",
    "stk2.SetMaximum(30000)"
   ]
  },
  {
   "cell_type": "code",
   "execution_count": 3,
   "id": "6e196f3f-a175-4c57-9951-40abc4dd0081",
   "metadata": {},
   "outputs": [
    {
     "data": {
      "image/png": "[encoded data removed]",
      "text/plain": [
       "<IPython.core.display.Image object>"
      ]
     },
     "metadata": {},
     "output_type": "display_data"
    }
   ],
   "source": [
    "canvas = ROOT.TCanvas(\"c\",\"c\",1200,500)\n",
    "canvas.Divide(2)\n",
    "\n",
    "canvas.cd(1)\n",
    "stk.SetTitle(\"4j2b\")\n",
    "stk.Draw(\"hist\")\n",
    "data.Draw(\"pE\")\n",
    "total.Draw(\"E2same\")\n",
    "legend.Draw()\n",
    "\n",
    "canvas.cd(2)\n",
    "stk2.SetTitle(\"4j0b\")\n",
    "stk2.Draw(\"hist\")\n",
    "data2.Draw(\"pE\")\n",
    "total2.Draw(\"E2same\")\n",
    "legend2.Draw()\n",
    "\n",
    "canvas.Draw()"
   ]
  },
  {
   "cell_type": "markdown",
   "id": "b9636632-335f-4ad2-b581-d253457caeda",
   "metadata": {},
   "source": [
    "## 2. We can print the best fit results using the code provided. \n",
    "\n",
    "Here I use the `pyROOT` version. "
   ]
  },
  {
   "cell_type": "code",
   "execution_count": 4,
   "id": "6dead676-6492-4b9b-bf00-8c2b6f3ec000",
   "metadata": {},
   "outputs": [
    {
     "name": "stdout",
     "output_type": "stream",
     "text": [
      "\n",
      "  RooFitResult: minimized FCN value: -0.00020326, estimated distance to minimum: 5.34275e-06\n",
      "                covariance matrix quality: Full, accurate covariance matrix\n",
      "                Status : MINIMIZE=0 HESSE=0 \n",
      "\n",
      "    Floating Parameter    FinalValue +/-  Error   \n",
      "  --------------------  --------------------------\n",
      "                  btag    2.1634e+00 +/-  8.54e-01\n",
      "                 ideff    4.6681e-01 +/-  1.02e+00\n",
      "                   jes    7.7198e-01 +/-  6.09e-02\n",
      "                  lumi   -3.7650e-01 +/-  1.01e-02\n",
      "  prop_bincontrolregion_bin0    7.9891e-01 +/-  8.83e-01\n",
      "  prop_bincontrolregion_bin1    2.1593e+00 +/-  9.00e-01\n",
      "  prop_bincontrolregion_bin10   -1.3274e-01 +/-  9.10e-01\n",
      "  prop_bincontrolregion_bin11    5.6041e-01 +/-  9.08e-01\n",
      "  prop_bincontrolregion_bin12   -1.1857e+00 +/-  9.12e-01\n",
      "  prop_bincontrolregion_bin13   -4.7468e-01 +/-  9.10e-01\n",
      "  prop_bincontrolregion_bin14   -2.6136e-01 +/-  9.08e-01\n",
      "  prop_bincontrolregion_bin15   -7.2318e-01 +/-  9.09e-01\n",
      "  prop_bincontrolregion_bin16   -4.2696e-02 +/-  9.06e-01\n",
      "  prop_bincontrolregion_bin17   -1.1439e+00 +/-  9.09e-01\n",
      "  prop_bincontrolregion_bin18   -4.3565e-01 +/-  9.08e-01\n",
      "  prop_bincontrolregion_bin19   -9.3066e-02 +/-  9.03e-01\n",
      "  prop_bincontrolregion_bin2    2.2050e+00 +/-  9.14e-01\n",
      "  prop_bincontrolregion_bin3    2.1998e+00 +/-  9.19e-01\n",
      "  prop_bincontrolregion_bin4    1.1193e+00 +/-  9.31e-01\n",
      "  prop_bincontrolregion_bin5   -1.2407e+00 +/-  9.34e-01\n",
      "  prop_bincontrolregion_bin6   -8.1615e-01 +/-  9.26e-01\n",
      "  prop_bincontrolregion_bin7   -7.9343e-01 +/-  9.15e-01\n",
      "  prop_bincontrolregion_bin8    1.1287e-01 +/-  9.13e-01\n",
      "  prop_bincontrolregion_bin9   -1.7256e-01 +/-  9.11e-01\n",
      "  prop_binsignalregion_bin0   -4.3051e-01 +/-  9.76e-01\n",
      "  prop_binsignalregion_bin1   -8.8268e-01 +/-  9.84e-01\n",
      "  prop_binsignalregion_bin10    6.6384e-01 +/-  9.85e-01\n",
      "  prop_binsignalregion_bin11    5.6890e-01 +/-  9.84e-01\n",
      "  prop_binsignalregion_bin12    5.6803e-01 +/-  9.83e-01\n",
      "  prop_binsignalregion_bin13    5.8144e-01 +/-  9.82e-01\n",
      "  prop_binsignalregion_bin14    2.1825e-01 +/-  9.82e-01\n",
      "  prop_binsignalregion_bin15    5.5108e-01 +/-  9.82e-01\n",
      "  prop_binsignalregion_bin16    4.5671e-01 +/-  9.81e-01\n",
      "  prop_binsignalregion_bin17    5.1578e-01 +/-  9.79e-01\n",
      "  prop_binsignalregion_bin18    6.7096e-01 +/-  9.79e-01\n",
      "  prop_binsignalregion_bin19    2.1684e-01 +/-  9.81e-01\n",
      "  prop_binsignalregion_bin2   -1.0313e+00 +/-  9.86e-01\n",
      "  prop_binsignalregion_bin3   -6.6500e-01 +/-  9.87e-01\n",
      "  prop_binsignalregion_bin4   -9.7874e-01 +/-  9.89e-01\n",
      "  prop_binsignalregion_bin5   -5.2094e-01 +/-  9.88e-01\n",
      "  prop_binsignalregion_bin6   -2.9065e-01 +/-  9.88e-01\n",
      "  prop_binsignalregion_bin7    1.5923e-01 +/-  9.87e-01\n",
      "  prop_binsignalregion_bin8    5.5739e-01 +/-  9.87e-01\n",
      "  prop_binsignalregion_bin9    4.2686e-01 +/-  9.86e-01\n",
      "                     r    8.7335e-01 +/-  2.67e-02\n",
      "            wjets_norm    5.0207e-01 +/-  1.47e-02\n",
      "\n"
     ]
    }
   ],
   "source": [
    "import ROOT\n",
    "file   = ROOT.TFile.Open(\"fitDiagnosticsCombined.root\")\n",
    "fit_res = file.Get(\"fit_s\")\n",
    "fit_res.Print()"
   ]
  },
  {
   "cell_type": "markdown",
   "id": "d30fa67c-791b-4294-a712-0a6bd782bcb2",
   "metadata": {},
   "source": [
    "## 3. The $\\chi^{2}$ \n",
    "\n",
    "It is obtained first running the `GoodnessOfFit` method, \n",
    "```sh\n",
    "combine combined.txt -M GoodnessOfFit --algo=saturated\n",
    "```"
   ]
  },
  {
   "cell_type": "code",
   "execution_count": 5,
   "id": "2b0dfe4d-486b-4c71-95d3-682a77bae6f9",
   "metadata": {},
   "outputs": [
    {
     "data": {
      "text/plain": [
       "2.4173644837191786e-60"
      ]
     },
     "execution_count": 5,
     "metadata": {},
     "output_type": "execute_result"
    }
   ],
   "source": [
    "import ROOT \n",
    "ROOT.TMath.Prob(335.387,18)"
   ]
  },
  {
   "cell_type": "markdown",
   "id": "b0b59a4d-4a45-4a3e-a235-732ab116c04b",
   "metadata": {},
   "source": [
    "## 4. Profiled likelihood scan \n",
    "\n",
    "We can run a scan of the profiled likelihood using `combine` with, \n",
    "```sh\n",
    "combine combined.txt -M MultiDimFit --algo grid --points 50 --setParameterRanges r=0.7,1 -n Combined\n",
    "```\n",
    "and plot using similar code to before. "
   ]
  },
  {
   "cell_type": "code",
   "execution_count": 9,
   "id": "b229b03e-b0eb-4eea-8109-8a51a29bdfd3",
   "metadata": {},
   "outputs": [
    {
     "data": {
      "text/plain": [
       "Text(0, 0.5, '$q(r)$')"
      ]
     },
     "execution_count": 9,
     "metadata": {},
     "output_type": "execute_result"
    },
    {
     "data": {
      "image/png": "[encoded data removed]",
      "text/plain": [
       "<Figure size 640x480 with 1 Axes>"
      ]
     },
     "metadata": {},
     "output_type": "display_data"
    }
   ],
   "source": [
    "import matplotlib.pyplot as plt\n",
    "\n",
    "from root2py import *\n",
    "import ROOT\n",
    "fscan = ROOT.TFile(\"higgsCombineCombined.MultiDimFit.mH120.root\")\n",
    "tree  = fscan.Get(\"limit\")\n",
    "x,y = get2DeltaNLLScan(tree)\n",
    "plt.plot(x,y) \n",
    "plt.xlabel(\"$r$\")\n",
    "plt.ylabel(\"$q(r)$\")"
   ]
  },
  {
   "cell_type": "code",
   "execution_count": null,
   "id": "894e9b5e-c1e3-4146-9185-ab9a4f478652",
   "metadata": {},
   "outputs": [],
   "source": []
  }
 ],
 "metadata": {
  "kernelspec": {
   "display_name": "Python 3 (ipykernel)",
   "language": "python",
   "name": "python3"
  },
  "language_info": {
   "codemirror_mode": {
    "name": "ipython",
    "version": 3
   },
   "file_extension": ".py",
   "mimetype": "text/x-python",
   "name": "python",
   "nbconvert_exporter": "python",
   "pygments_lexer": "ipython3",
   "version": "3.8.0"
  }
 },
 "nbformat": 4,
 "nbformat_minor": 5
}
